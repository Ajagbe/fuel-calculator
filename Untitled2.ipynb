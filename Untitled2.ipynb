{
 "cells": [
  {
   "cell_type": "code",
   "execution_count": 6,
   "id": "6e1fd01f",
   "metadata": {},
   "outputs": [
    {
     "name": "stdout",
     "output_type": "stream",
     "text": [
      "Enter the amount litre used for 6 days 100\n",
      "100 litre is used in 6 days\n",
      "400 is used for 4 weeks\n",
      "1200 is used for 3 months\n"
     ]
    }
   ],
   "source": [
    "a= input ('Enter the amount litre used for 6 days ')\n",
    "print(a ,'litre is used in 6 days')\n",
    "b= int(a)*int(4)\n",
    "print(b, 'is used for 4 weeks')\n",
    "c= int(b)*int(3)\n",
    "print(c, 'is used for 3 months')"
   ]
  },
  {
   "cell_type": "code",
   "execution_count": null,
   "id": "7e8f5eb5",
   "metadata": {},
   "outputs": [],
   "source": []
  },
  {
   "cell_type": "code",
   "execution_count": null,
   "id": "abf3ac0f",
   "metadata": {},
   "outputs": [],
   "source": []
  }
 ],
 "metadata": {
  "kernelspec": {
   "display_name": "Python 3 (ipykernel)",
   "language": "python",
   "name": "python3"
  },
  "language_info": {
   "codemirror_mode": {
    "name": "ipython",
    "version": 3
   },
   "file_extension": ".py",
   "mimetype": "text/x-python",
   "name": "python",
   "nbconvert_exporter": "python",
   "pygments_lexer": "ipython3",
   "version": "3.11.1"
  }
 },
 "nbformat": 4,
 "nbformat_minor": 5
}
